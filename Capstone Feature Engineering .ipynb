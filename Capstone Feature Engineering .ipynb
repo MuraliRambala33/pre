{
 "cells": [
  {
   "cell_type": "code",
   "execution_count": 1,
   "metadata": {},
   "outputs": [],
   "source": [
    "import pandas as pd\n",
    "cleaned_income_data=pd.read_excel('income_data.xlsx',index_col=0)\n",
    "# cleaned_income_data.head()"
   ]
  },
  {
   "cell_type": "code",
   "execution_count": 3,
   "metadata": {},
   "outputs": [],
   "source": [
    "df_high_income= cleaned_income_data.loc[cleaned_income_data['income_level']==50000]"
   ]
  },
  {
   "cell_type": "code",
   "execution_count": 4,
   "metadata": {},
   "outputs": [],
   "source": [
    "df_low_income= cleaned_income_data.loc[cleaned_income_data['income_level']==-50000]\n",
    "df_high_income= cleaned_income_data.loc[cleaned_income_data['income_level']==50000]"
   ]
  },
  {
   "cell_type": "code",
   "execution_count": 33,
   "metadata": {},
   "outputs": [
    {
     "data": {
      "text/html": [
       "<div>\n",
       "<style scoped>\n",
       "    .dataframe tbody tr th:only-of-type {\n",
       "        vertical-align: middle;\n",
       "    }\n",
       "\n",
       "    .dataframe tbody tr th {\n",
       "        vertical-align: top;\n",
       "    }\n",
       "\n",
       "    .dataframe thead th {\n",
       "        text-align: right;\n",
       "    }\n",
       "</style>\n",
       "<table border=\"1\" class=\"dataframe\">\n",
       "  <thead>\n",
       "    <tr style=\"text-align: right;\">\n",
       "      <th></th>\n",
       "      <th>age</th>\n",
       "      <th>class_of_worker</th>\n",
       "      <th>industry_code</th>\n",
       "      <th>occupation_code</th>\n",
       "      <th>education</th>\n",
       "      <th>wage_per_hour</th>\n",
       "      <th>enrolled_in_edu_inst_lastwk</th>\n",
       "      <th>marital_status</th>\n",
       "      <th>major_industry_code</th>\n",
       "      <th>major_occupation_code</th>\n",
       "      <th>...</th>\n",
       "      <th>country_father</th>\n",
       "      <th>country_mother</th>\n",
       "      <th>country_self</th>\n",
       "      <th>citizenship</th>\n",
       "      <th>business_or_self_employed</th>\n",
       "      <th>fill_questionnaire_veteran_admin</th>\n",
       "      <th>veterans_benefits</th>\n",
       "      <th>weeks_worked_in_year</th>\n",
       "      <th>year</th>\n",
       "      <th>income_level</th>\n",
       "    </tr>\n",
       "  </thead>\n",
       "  <tbody>\n",
       "    <tr>\n",
       "      <th>57</th>\n",
       "      <td>42</td>\n",
       "      <td>Self-employed-incorporated</td>\n",
       "      <td>37</td>\n",
       "      <td>2</td>\n",
       "      <td>Some college but no degree</td>\n",
       "      <td>0</td>\n",
       "      <td>Not in universe</td>\n",
       "      <td>Married-civilian spouse present</td>\n",
       "      <td>Business and repair services</td>\n",
       "      <td>Executive admin and managerial</td>\n",
       "      <td>...</td>\n",
       "      <td>United-States</td>\n",
       "      <td>United-States</td>\n",
       "      <td>United-States</td>\n",
       "      <td>Native- Born in the United States</td>\n",
       "      <td>0</td>\n",
       "      <td>Not in universe</td>\n",
       "      <td>2</td>\n",
       "      <td>52</td>\n",
       "      <td>95</td>\n",
       "      <td>50000</td>\n",
       "    </tr>\n",
       "    <tr>\n",
       "      <th>64</th>\n",
       "      <td>47</td>\n",
       "      <td>Private</td>\n",
       "      <td>31</td>\n",
       "      <td>33</td>\n",
       "      <td>12th grade no diploma</td>\n",
       "      <td>0</td>\n",
       "      <td>Not in universe</td>\n",
       "      <td>Married-civilian spouse present</td>\n",
       "      <td>Utilities and sanitary services</td>\n",
       "      <td>Precision production craft &amp; repair</td>\n",
       "      <td>...</td>\n",
       "      <td>United-States</td>\n",
       "      <td>United-States</td>\n",
       "      <td>United-States</td>\n",
       "      <td>Native- Born in the United States</td>\n",
       "      <td>0</td>\n",
       "      <td>Not in universe</td>\n",
       "      <td>2</td>\n",
       "      <td>52</td>\n",
       "      <td>95</td>\n",
       "      <td>50000</td>\n",
       "    </tr>\n",
       "    <tr>\n",
       "      <th>68</th>\n",
       "      <td>33</td>\n",
       "      <td>Private</td>\n",
       "      <td>30</td>\n",
       "      <td>33</td>\n",
       "      <td>Associates degree-occup /vocational</td>\n",
       "      <td>0</td>\n",
       "      <td>Not in universe</td>\n",
       "      <td>Separated</td>\n",
       "      <td>Communications</td>\n",
       "      <td>Precision production craft &amp; repair</td>\n",
       "      <td>...</td>\n",
       "      <td>United-States</td>\n",
       "      <td>United-States</td>\n",
       "      <td>United-States</td>\n",
       "      <td>Native- Born in the United States</td>\n",
       "      <td>0</td>\n",
       "      <td>Not in universe</td>\n",
       "      <td>2</td>\n",
       "      <td>52</td>\n",
       "      <td>94</td>\n",
       "      <td>50000</td>\n",
       "    </tr>\n",
       "    <tr>\n",
       "      <th>80</th>\n",
       "      <td>58</td>\n",
       "      <td>Self-employed-not incorporated</td>\n",
       "      <td>35</td>\n",
       "      <td>17</td>\n",
       "      <td>Prof school degree (MD DDS DVM LLB JD)</td>\n",
       "      <td>0</td>\n",
       "      <td>Not in universe</td>\n",
       "      <td>Married-civilian spouse present</td>\n",
       "      <td>Finance insurance and real estate</td>\n",
       "      <td>Sales</td>\n",
       "      <td>...</td>\n",
       "      <td>United-States</td>\n",
       "      <td>United-States</td>\n",
       "      <td>United-States</td>\n",
       "      <td>Native- Born in the United States</td>\n",
       "      <td>0</td>\n",
       "      <td>Not in universe</td>\n",
       "      <td>2</td>\n",
       "      <td>52</td>\n",
       "      <td>95</td>\n",
       "      <td>50000</td>\n",
       "    </tr>\n",
       "    <tr>\n",
       "      <th>88</th>\n",
       "      <td>54</td>\n",
       "      <td>Not in universe</td>\n",
       "      <td>0</td>\n",
       "      <td>0</td>\n",
       "      <td>High school graduate</td>\n",
       "      <td>0</td>\n",
       "      <td>Not in universe</td>\n",
       "      <td>Married-civilian spouse present</td>\n",
       "      <td>Not in universe or children</td>\n",
       "      <td>Not in universe</td>\n",
       "      <td>...</td>\n",
       "      <td>Vietnam</td>\n",
       "      <td>Vietnam</td>\n",
       "      <td>Vietnam</td>\n",
       "      <td>Foreign born- Not a citizen of U S</td>\n",
       "      <td>0</td>\n",
       "      <td>Not in universe</td>\n",
       "      <td>2</td>\n",
       "      <td>0</td>\n",
       "      <td>95</td>\n",
       "      <td>50000</td>\n",
       "    </tr>\n",
       "  </tbody>\n",
       "</table>\n",
       "<p>5 rows × 41 columns</p>\n",
       "</div>"
      ],
      "text/plain": [
       "    age                 class_of_worker  industry_code  occupation_code  \\\n",
       "57   42      Self-employed-incorporated             37                2   \n",
       "64   47                         Private             31               33   \n",
       "68   33                         Private             30               33   \n",
       "80   58  Self-employed-not incorporated             35               17   \n",
       "88   54                 Not in universe              0                0   \n",
       "\n",
       "                                 education  wage_per_hour  \\\n",
       "57              Some college but no degree              0   \n",
       "64                   12th grade no diploma              0   \n",
       "68     Associates degree-occup /vocational              0   \n",
       "80  Prof school degree (MD DDS DVM LLB JD)              0   \n",
       "88                    High school graduate              0   \n",
       "\n",
       "   enrolled_in_edu_inst_lastwk                   marital_status  \\\n",
       "57             Not in universe  Married-civilian spouse present   \n",
       "64             Not in universe  Married-civilian spouse present   \n",
       "68             Not in universe                        Separated   \n",
       "80             Not in universe  Married-civilian spouse present   \n",
       "88             Not in universe  Married-civilian spouse present   \n",
       "\n",
       "                  major_industry_code                major_occupation_code  \\\n",
       "57       Business and repair services       Executive admin and managerial   \n",
       "64    Utilities and sanitary services  Precision production craft & repair   \n",
       "68                     Communications  Precision production craft & repair   \n",
       "80  Finance insurance and real estate                                Sales   \n",
       "88        Not in universe or children                      Not in universe   \n",
       "\n",
       "    ... country_father country_mother   country_self  \\\n",
       "57  ...  United-States  United-States  United-States   \n",
       "64  ...  United-States  United-States  United-States   \n",
       "68  ...  United-States  United-States  United-States   \n",
       "80  ...  United-States  United-States  United-States   \n",
       "88  ...        Vietnam        Vietnam        Vietnam   \n",
       "\n",
       "                           citizenship business_or_self_employed  \\\n",
       "57   Native- Born in the United States                         0   \n",
       "64   Native- Born in the United States                         0   \n",
       "68   Native- Born in the United States                         0   \n",
       "80   Native- Born in the United States                         0   \n",
       "88  Foreign born- Not a citizen of U S                         0   \n",
       "\n",
       "   fill_questionnaire_veteran_admin  veterans_benefits  weeks_worked_in_year  \\\n",
       "57                  Not in universe                  2                    52   \n",
       "64                  Not in universe                  2                    52   \n",
       "68                  Not in universe                  2                    52   \n",
       "80                  Not in universe                  2                    52   \n",
       "88                  Not in universe                  2                     0   \n",
       "\n",
       "    year income_level  \n",
       "57    95        50000  \n",
       "64    95        50000  \n",
       "68    94        50000  \n",
       "80    95        50000  \n",
       "88    95        50000  \n",
       "\n",
       "[5 rows x 41 columns]"
      ]
     },
     "execution_count": 33,
     "metadata": {},
     "output_type": "execute_result"
    }
   ],
   "source": [
    "df_high_income.head()"
   ]
  },
  {
   "cell_type": "code",
   "execution_count": 51,
   "metadata": {},
   "outputs": [
    {
     "data": {
      "image/png": "[encoded data removed]",
      "text/plain": [
       "<Figure size 2160x864 with 3 Axes>"
      ]
     },
     "metadata": {},
     "output_type": "display_data"
    }
   ],
   "source": [
    "import matplotlib.pyplot as plt\n",
    "import seaborn as sns\n",
    "plt.subplot(311)\n",
    "sns.set(rc={'figure.figsize':(30,12)})\n",
    "cleaned_income_data['occupation_code'].value_counts(normalize=True).plot.bar(title='occupation_code')\n",
    "plt.rc('xtick',labelsize=15)\n",
    "plt.rc('ytick',labelsize=35)\n",
    "plt.subplot(312)\n",
    "df_high_income['occupation_code'].value_counts(normalize=True).plot.bar(title='occupation_above_50000')\n",
    "plt.rc('xtick',labelsize=15)\n",
    "plt.rc('ytick',labelsize=35)\n",
    "plt.subplot(313)\n",
    "df_low_income['occupation_code'].value_counts(normalize=True).plot.bar(title='occupation_under_50000')\n",
    "plt.rc('xtick',labelsize=15)\n",
    "plt.rc('ytick',labelsize=35)\n",
    "plt.show()"
   ]
  },
  {
   "cell_type": "code",
   "execution_count": 56,
   "metadata": {},
   "outputs": [
    {
     "data": {
      "text/plain": [
       "(0.0, 0.2)"
      ]
     },
     "execution_count": 56,
     "metadata": {},
     "output_type": "execute_result"
    },
    {
     "data": {
      "image/png": "[encoded data removed]",
      "text/plain": [
       "<Figure size 2160x864 with 1 Axes>"
      ]
     },
     "metadata": {},
     "output_type": "display_data"
    }
   ],
   "source": [
    "cleaned_income_data['occupation_code'].value_counts(normalize=True).plot.bar(title='occupation_code')\n",
    "plt.ylim(0,0.2)"
   ]
  },
  {
   "cell_type": "code",
   "execution_count": 52,
   "metadata": {},
   "outputs": [
    {
     "data": {
      "text/plain": [
       "<matplotlib.axes._subplots.AxesSubplot at 0x215948aa5c8>"
      ]
     },
     "execution_count": 52,
     "metadata": {},
     "output_type": "execute_result"
    },
    {
     "data": {
      "image/png": "[encoded data removed]",
      "text/plain": [
       "<Figure size 2160x864 with 1 Axes>"
      ]
     },
     "metadata": {},
     "output_type": "display_data"
    }
   ],
   "source": [
    "df_high_income['occupation_code'].value_counts(normalize=True).plot.bar(title='occupation_above_50000')"
   ]
  },
  {
   "cell_type": "code",
   "execution_count": 55,
   "metadata": {
    "scrolled": true
   },
   "outputs": [
    {
     "data": {
      "text/plain": [
       "(0.0, 0.2)"
      ]
     },
     "execution_count": 55,
     "metadata": {},
     "output_type": "execute_result"
    },
    {
     "data": {
      "image/png": "[encoded data removed]",
      "text/plain": [
       "<Figure size 2160x864 with 1 Axes>"
      ]
     },
     "metadata": {},
     "output_type": "display_data"
    }
   ],
   "source": [
    "df_low_income['occupation_code'].value_counts(normalize=True).plot.bar(title='occupation_under_50000')\n",
    "plt.ylim(0,0.2)"
   ]
  },
  {
   "cell_type": "code",
   "execution_count": 66,
   "metadata": {},
   "outputs": [],
   "source": [
    "cleaned_income_data['new_occupation_code']=[0 if x== ((14 or 20 or 21 or 22 or 25 or 30 or 34 or 35 or 39 or 40 or 43 or 45 or 46)) else 1 if x == ((1 or 2 or 3 or 4 or 5 or 6 or 7 or 8 or 9 or 11 or 12 or 15 or 16 or 17 or 18 or 28 or 33)) else -1 for x in cleaned_income_data['occupation_code']]"
   ]
  },
  {
   "cell_type": "code",
   "execution_count": 67,
   "metadata": {},
   "outputs": [
    {
     "data": {
      "text/plain": [
       "-1    198047\n",
       " 0       932\n",
       " 1       544\n",
       "Name: new_occupation_code, dtype: int64"
      ]
     },
     "execution_count": 67,
     "metadata": {},
     "output_type": "execute_result"
    }
   ],
   "source": [
    "cleaned_income_data['new_occupation_code'].value_counts()"
   ]
  },
  {
   "cell_type": "code",
   "execution_count": 7,
   "metadata": {},
   "outputs": [
    {
     "data": {
      "text/plain": [
       "199523"
      ]
     },
     "execution_count": 7,
     "metadata": {},
     "output_type": "execute_result"
    }
   ],
   "source": [
    "198047+932+544"
   ]
  },
  {
   "cell_type": "code",
   "execution_count": 8,
   "metadata": {},
   "outputs": [
    {
     "data": {
      "text/plain": [
       "199523"
      ]
     },
     "execution_count": 8,
     "metadata": {},
     "output_type": "execute_result"
    }
   ],
   "source": [
    "cleaned_income_data.shape[0]"
   ]
  },
  {
   "cell_type": "code",
   "execution_count": 15,
   "metadata": {},
   "outputs": [
    {
     "data": {
      "text/plain": [
       "4.369366672126244"
      ]
     },
     "execution_count": 15,
     "metadata": {},
     "output_type": "execute_result"
    }
   ],
   "source": [
    "cleaned_income_data['new_occupation_code'].corr(cleaned_income_data['income_level'])*100"
   ]
  },
  {
   "cell_type": "code",
   "execution_count": 16,
   "metadata": {},
   "outputs": [
    {
     "data": {
      "text/plain": [
       "1.3414010148057942"
      ]
     },
     "execution_count": 16,
     "metadata": {},
     "output_type": "execute_result"
    }
   ],
   "source": [
    "cleaned_income_data['occupation_code'].corr(cleaned_income_data['income_level'])*100"
   ]
  },
  {
   "cell_type": "code",
   "execution_count": 10,
   "metadata": {},
   "outputs": [
    {
     "data": {
      "text/plain": [
       "0.19618969446024018"
      ]
     },
     "execution_count": 10,
     "metadata": {},
     "output_type": "execute_result"
    }
   ],
   "source": [
    "cleaned_income_data['industry_code'].corr(cleaned_income_data['income_level'])\n",
    "cleaned_income_data['new_industry_code'].corr(cleaned_income_data['income_level'])\n"
   ]
  },
  {
   "cell_type": "code",
   "execution_count": 19,
   "metadata": {},
   "outputs": [],
   "source": [
    "df_low_income_occu= cleaned_income_data.loc[cleaned_income_data['income_level']==-50000]\n",
    "df_high_income_occu= cleaned_income_data.loc[cleaned_income_data['income_level']==50000]"
   ]
  },
  {
   "cell_type": "code",
   "execution_count": 25,
   "metadata": {},
   "outputs": [
    {
     "data": {
      "image/png": "[encoded data removed]",
      "text/plain": [
       "<Figure size 2160x864 with 3 Axes>"
      ]
     },
     "metadata": {},
     "output_type": "display_data"
    }
   ],
   "source": [
    "import matplotlib.pyplot as plt\n",
    "import seaborn as sns\n",
    "plt.subplot(311)\n",
    "sns.set(rc={'figure.figsize':(30,12)})\n",
    "cleaned_income_data['industry_code'].value_counts(normalize=True).plot.bar(title='industry_code')\n",
    "plt.rc('xtick',labelsize=15)\n",
    "# plt.rc('ytick',labelsize=35)\n",
    "plt.subplot(312)\n",
    "df_high_income_occu['industry_code'].value_counts(normalize=True).plot.bar(title='industry_above_50000')\n",
    "plt.rc('xtick',labelsize=15)\n",
    "plt.ylim(0,0.1)\n",
    "# plt.rc('ytick',labelsize=35)\n",
    "plt.subplot(313)\n",
    "df_low_income_occu['industry_code'].value_counts(normalize=True).plot.bar(title='industry_under_50000')\n",
    "plt.rc('xtick',labelsize=15)\n",
    "plt.ylim(0,0.1)\n",
    "# plt.rc('ytick',labelsize=35)\n",
    "plt.show()"
   ]
  },
  {
   "cell_type": "code",
   "execution_count": 13,
   "metadata": {},
   "outputs": [],
   "source": [
    "cleaned_income_data['new_industry_code']=[0 if x== ((1 or 2 or 5 or 6 or 7 or 10 or 17 or 18 or 19 or 20 or 27 or 28 or 40 or 46 or 48 or 51)) else 1 if x == ((3 or 4 or 8 or 9 or 11 or 12 or 13 or 14 or 15 or 16 or 21 or 23 or 24 or 25 or 26 or 29 or 30 or 31 or 32 or 33 or 34 or 35 or 37 or 41 or 42 or 43 or 45 or 47 or 49 or 50)) else -1 for x in cleaned_income_data['industry_code']]"
   ]
  },
  {
   "cell_type": "code",
   "execution_count": 20,
   "metadata": {},
   "outputs": [
    {
     "data": {
      "text/plain": [
       "-1    198133\n",
       " 0       827\n",
       " 1       563\n",
       "Name: new_industry_code, dtype: int64"
      ]
     },
     "execution_count": 20,
     "metadata": {},
     "output_type": "execute_result"
    }
   ],
   "source": [
    "cleaned_income_data['new_industry_code'].value_counts()"
   ]
  },
  {
   "cell_type": "code",
   "execution_count": 18,
   "metadata": {},
   "outputs": [
    {
     "data": {
      "text/plain": [
       "19.618969446024018"
      ]
     },
     "execution_count": 18,
     "metadata": {},
     "output_type": "execute_result"
    }
   ],
   "source": [
    "cleaned_income_data['industry_code'].corr(cleaned_income_data['income_level'])*100\n",
    "\n"
   ]
  },
  {
   "cell_type": "code",
   "execution_count": 19,
   "metadata": {},
   "outputs": [
    {
     "data": {
      "text/plain": [
       "3.6536207476455482"
      ]
     },
     "execution_count": 19,
     "metadata": {},
     "output_type": "execute_result"
    }
   ],
   "source": [
    "cleaned_income_data['new_industry_code'].corr(cleaned_income_data['income_level'])*100"
   ]
  },
  {
   "cell_type": "code",
   "execution_count": 21,
   "metadata": {},
   "outputs": [],
   "source": [
    "from sklearn.preprocessing import LabelEncoder"
   ]
  },
  {
   "cell_type": "code",
   "execution_count": 69,
   "metadata": {},
   "outputs": [],
   "source": [
    "le=LabelEncoder()\n",
    "cleaned_income_data['new_industry_code_encoded']=le.fit_transform(cleaned_income_data['industry_code'])"
   ]
  },
  {
   "cell_type": "code",
   "execution_count": 11,
   "metadata": {},
   "outputs": [
    {
     "data": {
      "text/plain": [
       "Index(['age', 'class_of_worker', 'industry_code', 'occupation_code',\n",
       "       'education', 'wage_per_hour', 'enrolled_in_edu_inst_lastwk',\n",
       "       'marital_status', 'major_industry_code', 'major_occupation_code',\n",
       "       'race', 'hispanic_origin', 'sex', 'member_of_labor_union',\n",
       "       'reason_for_unemployment', 'full_parttime_employment_stat',\n",
       "       'capital_gains', 'capital_losses', 'dividend_from_Stocks',\n",
       "       'tax_filer_status', 'region_of_previous_residence',\n",
       "       'state_of_previous_residence', 'd_household_family_stat',\n",
       "       'd_household_summary', 'migration_msa', 'migration_reg',\n",
       "       'migration_within_reg', 'live_1_year_ago', 'migration_sunbelt',\n",
       "       'num_person_Worked_employer', 'family_members_under_18',\n",
       "       'country_father', 'country_mother', 'country_self', 'citizenship',\n",
       "       'business_or_self_employed', 'fill_questionnaire_veteran_admin',\n",
       "       'veterans_benefits', 'weeks_worked_in_year', 'year', 'income_level',\n",
       "       'new_occupation_code', 'new_industry_code'],\n",
       "      dtype='object')"
      ]
     },
     "execution_count": 11,
     "metadata": {},
     "output_type": "execute_result"
    }
   ],
   "source": [
    "cleaned_income_data.columns"
   ]
  },
  {
   "cell_type": "code",
   "execution_count": 24,
   "metadata": {},
   "outputs": [
    {
     "data": {
      "text/plain": [
       "array(['Not in universe', 'Self-employed-not incorporated', 'Private',\n",
       "       'Local government', 'Federal government',\n",
       "       'Self-employed-incorporated', 'State government', 'Never worked',\n",
       "       'Without pay'], dtype=object)"
      ]
     },
     "execution_count": 24,
     "metadata": {},
     "output_type": "execute_result"
    }
   ],
   "source": [
    "cleaned_income_data['class_of_worker'].unique()"
   ]
  },
  {
   "cell_type": "code",
   "execution_count": 8,
   "metadata": {},
   "outputs": [],
   "source": [
    "from sklearn.preprocessing import LabelEncoder"
   ]
  },
  {
   "cell_type": "code",
   "execution_count": 70,
   "metadata": {},
   "outputs": [],
   "source": [
    "le=LabelEncoder()\n",
    "cleaned_income_data['class_of_worker_encoded']=le.fit_transform(cleaned_income_data['class_of_worker'])"
   ]
  },
  {
   "cell_type": "code",
   "execution_count": 19,
   "metadata": {},
   "outputs": [
    {
     "data": {
      "text/plain": [
       "class_of_worker_encoded  income_level\n",
       "0                        -50000           2328\n",
       "                          50000            597\n",
       "1                        -50000           6937\n",
       "                          50000            847\n",
       "2                        -50000            437\n",
       "                          50000              2\n",
       "3                        -50000          99341\n",
       "                          50000            904\n",
       "4                        -50000          64706\n",
       "                          50000           7322\n",
       "5                        -50000           2131\n",
       "                          50000           1134\n",
       "6                        -50000           7355\n",
       "                          50000           1090\n",
       "7                        -50000           3742\n",
       "                          50000            485\n",
       "8                        -50000            164\n",
       "                          50000              1\n",
       "Name: income_level, dtype: int64"
      ]
     },
     "execution_count": 19,
     "metadata": {},
     "output_type": "execute_result"
    }
   ],
   "source": [
    "cleaned_income_data.groupby('class_of_worker_encoded')['income_level'].value_counts()"
   ]
  },
  {
   "cell_type": "code",
   "execution_count": 25,
   "metadata": {},
   "outputs": [],
   "source": [
    "cleaned_income_data['class_of_worker_encoded_mapped']=cleaned_income_data['class_of_worker_encoded'].replace({0:6,1:5,2:8,3:4,4:1,5:2,6:3,7:7,8:9}).values"
   ]
  },
  {
   "cell_type": "code",
   "execution_count": 26,
   "metadata": {},
   "outputs": [
    {
     "data": {
      "text/plain": [
       "class_of_worker_encoded_mapped  income_level\n",
       "1                               -50000          64706\n",
       "                                 50000           7322\n",
       "2                               -50000           2131\n",
       "                                 50000           1134\n",
       "3                               -50000           7355\n",
       "                                 50000           1090\n",
       "4                               -50000          99341\n",
       "                                 50000            904\n",
       "5                               -50000           6937\n",
       "                                 50000            847\n",
       "6                               -50000           2328\n",
       "                                 50000            597\n",
       "7                               -50000           3742\n",
       "                                 50000            485\n",
       "8                               -50000            437\n",
       "                                 50000              2\n",
       "9                               -50000            164\n",
       "                                 50000              1\n",
       "Name: income_level, dtype: int64"
      ]
     },
     "execution_count": 26,
     "metadata": {},
     "output_type": "execute_result"
    }
   ],
   "source": [
    "cleaned_income_data.groupby('class_of_worker_encoded_mapped')['income_level'].value_counts()"
   ]
  },
  {
   "cell_type": "code",
   "execution_count": 2,
   "metadata": {},
   "outputs": [
    {
     "data": {
      "text/plain": [
       "High school graduate                      48407\n",
       "Children                                  47422\n",
       "Some college but no degree                27820\n",
       "Bachelors degree(BA AB BS)                19865\n",
       "7th and 8th grade                          8007\n",
       "10th grade                                 7557\n",
       "11th grade                                 6876\n",
       "Masters degree(MA MS MEng MEd MSW MBA)     6541\n",
       "9th grade                                  6230\n",
       "Associates degree-occup /vocational        5358\n",
       "Associates degree-academic program         4363\n",
       "5th or 6th grade                           3277\n",
       "12th grade no diploma                      2126\n",
       "1st 2nd 3rd or 4th grade                   1799\n",
       "Prof school degree (MD DDS DVM LLB JD)     1793\n",
       "Doctorate degree(PhD EdD)                  1263\n",
       "Less than 1st grade                         819\n",
       "Name: education, dtype: int64"
      ]
     },
     "execution_count": 2,
     "metadata": {},
     "output_type": "execute_result"
    }
   ],
   "source": [
    "cleaned_income_data['education'].value_counts()"
   ]
  },
  {
   "cell_type": "code",
   "execution_count": 3,
   "metadata": {},
   "outputs": [
    {
     "data": {
      "text/plain": [
       "education                               income_level\n",
       "10th grade                              -50000           7495\n",
       "                                         50000             62\n",
       "11th grade                              -50000           6806\n",
       "                                         50000             70\n",
       "12th grade no diploma                   -50000           2092\n",
       "                                         50000             34\n",
       "1st 2nd 3rd or 4th grade                -50000           1786\n",
       "                                         50000             13\n",
       "5th or 6th grade                        -50000           3255\n",
       "                                         50000             22\n",
       "7th and 8th grade                       -50000           7935\n",
       "                                         50000             72\n",
       "9th grade                               -50000           6192\n",
       "                                         50000             38\n",
       "Associates degree-academic program      -50000           3951\n",
       "                                         50000            412\n",
       "Associates degree-occup /vocational     -50000           4945\n",
       "                                         50000            413\n",
       "Bachelors degree(BA AB BS)              -50000          15950\n",
       "                                         50000           3915\n",
       "Children                                -50000          47422\n",
       "Doctorate degree(PhD EdD)                50000            657\n",
       "                                        -50000            606\n",
       "High school graduate                    -50000          46528\n",
       "                                         50000           1879\n",
       "Less than 1st grade                     -50000            818\n",
       "                                         50000              1\n",
       "Masters degree(MA MS MEng MEd MSW MBA)  -50000           4503\n",
       "                                         50000           2038\n",
       "Prof school degree (MD DDS DVM LLB JD)   50000            969\n",
       "                                        -50000            824\n",
       "Some college but no degree              -50000          26033\n",
       "                                         50000           1787\n",
       "Name: income_level, dtype: int64"
      ]
     },
     "execution_count": 3,
     "metadata": {},
     "output_type": "execute_result"
    }
   ],
   "source": [
    "cleaned_income_data.groupby('education')['income_level'].value_counts()"
   ]
  },
  {
   "cell_type": "code",
   "execution_count": 71,
   "metadata": {},
   "outputs": [],
   "source": [
    "le=LabelEncoder()\n",
    "cleaned_income_data['education_encoded']=le.fit_transform(cleaned_income_data['education'])"
   ]
  },
  {
   "cell_type": "code",
   "execution_count": 11,
   "metadata": {},
   "outputs": [],
   "source": [
    "cleaned_income_data['education_encoded_mapped']=cleaned_income_data['education_encoded'].replace({0:11,1:10,2:13,3:15,4:14,5:9,6:12,7:8,8:7,9:1,10:17,11:6,12:3,13:16,14:2,15:5,16:4,17:11})"
   ]
  },
  {
   "cell_type": "code",
   "execution_count": 10,
   "metadata": {},
   "outputs": [
    {
     "data": {
      "text/plain": [
       "education_encoded_mapped  income_level\n",
       "1                         -50000          15950\n",
       "                           50000           3915\n",
       "2                         -50000           4503\n",
       "                           50000           2038\n",
       "3                         -50000          46528\n",
       "                           50000           1879\n",
       "4                         -50000          26033\n",
       "                           50000           1787\n",
       "5                          50000            969\n",
       "                          -50000            824\n",
       "6                          50000            657\n",
       "                          -50000            606\n",
       "7                         -50000           4945\n",
       "                           50000            413\n",
       "8                         -50000           3951\n",
       "                           50000            412\n",
       "9                         -50000           7935\n",
       "                           50000             72\n",
       "10                        -50000           6806\n",
       "                           50000             70\n",
       "11                        -50000           7495\n",
       "                           50000             62\n",
       "12                        -50000           6192\n",
       "                           50000             38\n",
       "13                        -50000           2092\n",
       "                           50000             34\n",
       "14                        -50000           3255\n",
       "                           50000             22\n",
       "15                        -50000           1786\n",
       "                           50000             13\n",
       "16                        -50000            818\n",
       "                           50000              1\n",
       "17                        -50000          47422\n",
       "Name: income_level, dtype: int64"
      ]
     },
     "execution_count": 10,
     "metadata": {},
     "output_type": "execute_result"
    }
   ],
   "source": [
    "cleaned_income_data.groupby('education_encoded_mapped')['income_level'].value_counts()"
   ]
  },
  {
   "cell_type": "code",
   "execution_count": 15,
   "metadata": {},
   "outputs": [
    {
     "data": {
      "text/plain": [
       "enrolled_in_edu_inst_lastwk  income_level\n",
       "College or university        -50000            5663\n",
       "                              50000              25\n",
       "High school                  -50000            6887\n",
       "                              50000               5\n",
       "Not in universe              -50000          174591\n",
       "                              50000           12352\n",
       "Name: income_level, dtype: int64"
      ]
     },
     "execution_count": 15,
     "metadata": {},
     "output_type": "execute_result"
    }
   ],
   "source": [
    "cleaned_income_data.groupby('enrolled_in_edu_inst_lastwk')['income_level'].value_counts()"
   ]
  },
  {
   "cell_type": "code",
   "execution_count": 73,
   "metadata": {},
   "outputs": [],
   "source": [
    "cleaned_income_data['enrolled_in_edu_inst_lastwk_encoded']=le.fit_transform(cleaned_income_data['enrolled_in_edu_inst_lastwk'])"
   ]
  },
  {
   "cell_type": "code",
   "execution_count": 15,
   "metadata": {},
   "outputs": [],
   "source": [
    "cleaned_income_data['enrolled_in_edu_inst_lastwk_encoded_mapped']=cleaned_income_data['enrolled_in_edu_inst_lastwk_encoded'].replace({0:2,1:3,2:1})"
   ]
  },
  {
   "cell_type": "code",
   "execution_count": 16,
   "metadata": {},
   "outputs": [
    {
     "data": {
      "text/plain": [
       "enrolled_in_edu_inst_lastwk_encoded_mapped  income_level\n",
       "1                                           -50000          174591\n",
       "                                             50000           12352\n",
       "2                                           -50000            5663\n",
       "                                             50000              25\n",
       "3                                           -50000            6887\n",
       "                                             50000               5\n",
       "Name: income_level, dtype: int64"
      ]
     },
     "execution_count": 16,
     "metadata": {},
     "output_type": "execute_result"
    }
   ],
   "source": [
    "cleaned_income_data.groupby('enrolled_in_edu_inst_lastwk_encoded_mapped')['income_level'].value_counts()"
   ]
  },
  {
   "cell_type": "code",
   "execution_count": 17,
   "metadata": {},
   "outputs": [
    {
     "data": {
      "text/plain": [
       "Index(['age', 'class_of_worker', 'industry_code', 'occupation_code',\n",
       "       'education', 'wage_per_hour', 'enrolled_in_edu_inst_lastwk',\n",
       "       'marital_status', 'major_industry_code', 'major_occupation_code',\n",
       "       'race', 'hispanic_origin', 'sex', 'member_of_labor_union',\n",
       "       'reason_for_unemployment', 'full_parttime_employment_stat',\n",
       "       'capital_gains', 'capital_losses', 'dividend_from_Stocks',\n",
       "       'tax_filer_status', 'region_of_previous_residence',\n",
       "       'state_of_previous_residence', 'd_household_family_stat',\n",
       "       'd_household_summary', 'migration_msa', 'migration_reg',\n",
       "       'migration_within_reg', 'live_1_year_ago', 'migration_sunbelt',\n",
       "       'num_person_Worked_employer', 'family_members_under_18',\n",
       "       'country_father', 'country_mother', 'country_self', 'citizenship',\n",
       "       'business_or_self_employed', 'fill_questionnaire_veteran_admin',\n",
       "       'veterans_benefits', 'weeks_worked_in_year', 'year', 'income_level',\n",
       "       'class_of_worker_encoded', 'education_encoded',\n",
       "       'education_encoded_mapped', 'enrolled_in_edu_inst_lastwk_encoded',\n",
       "       'enrolled_in_edu_inst_lastwk_encoded_mapped'],\n",
       "      dtype='object')"
      ]
     },
     "execution_count": 17,
     "metadata": {},
     "output_type": "execute_result"
    }
   ],
   "source": [
    "cleaned_income_data.columns"
   ]
  },
  {
   "cell_type": "code",
   "execution_count": 23,
   "metadata": {},
   "outputs": [
    {
     "data": {
      "text/plain": [
       "marital_status_encoded  income_level\n",
       "0                       -50000          11644\n",
       "                         50000           1066\n",
       "1                       -50000            650\n",
       "                         50000             15\n",
       "2                       -50000          74622\n",
       "                         50000           9600\n",
       "3                       -50000           1422\n",
       "                         50000             96\n",
       "4                       -50000          85368\n",
       "                         50000           1117\n",
       "5                       -50000           3302\n",
       "                         50000            158\n",
       "6                       -50000          10133\n",
       "                         50000            330\n",
       "Name: income_level, dtype: int64"
      ]
     },
     "execution_count": 23,
     "metadata": {},
     "output_type": "execute_result"
    }
   ],
   "source": [
    "cleaned_income_data.groupby('marital_status_encoded')['income_level'].value_counts()"
   ]
  },
  {
   "cell_type": "code",
   "execution_count": 74,
   "metadata": {},
   "outputs": [],
   "source": [
    "cleaned_income_data['marital_status_encoded']=le.fit_transform(cleaned_income_data['marital_status'])"
   ]
  },
  {
   "cell_type": "code",
   "execution_count": 24,
   "metadata": {},
   "outputs": [],
   "source": [
    "cleaned_income_data['marital_status_encoded_mapped']=cleaned_income_data['marital_status_encoded'].replace({0:3,1:7,2:1,3:6,4:2,5:5,6:4})"
   ]
  },
  {
   "cell_type": "code",
   "execution_count": 28,
   "metadata": {},
   "outputs": [
    {
     "data": {
      "text/plain": [
       "2    86485\n",
       "1    84222\n",
       "3    12710\n",
       "4    10463\n",
       "5     3460\n",
       "6     1518\n",
       "7      665\n",
       "Name: marital_status_encoded_mapped, dtype: int64"
      ]
     },
     "execution_count": 28,
     "metadata": {},
     "output_type": "execute_result"
    }
   ],
   "source": [
    "cleaned_income_data['marital_status_encoded_mapped'].value_counts()"
   ]
  },
  {
   "cell_type": "code",
   "execution_count": 29,
   "metadata": {},
   "outputs": [
    {
     "data": {
      "text/plain": [
       "array(['Not in universe or children', 'Construction', 'Entertainment',\n",
       "       'Finance insurance and real estate', 'Education',\n",
       "       'Business and repair services', 'Manufacturing-nondurable goods',\n",
       "       'Personal services except private HH',\n",
       "       'Manufacturing-durable goods', 'Other professional services',\n",
       "       'Mining', 'Transportation', 'Wholesale trade',\n",
       "       'Public administration', 'Retail trade', 'Social services',\n",
       "       'Private household services', 'Utilities and sanitary services',\n",
       "       'Communications', 'Hospital services', 'Medical except hospital',\n",
       "       'Agriculture', 'Forestry and fisheries', 'Armed Forces'],\n",
       "      dtype=object)"
      ]
     },
     "execution_count": 29,
     "metadata": {},
     "output_type": "execute_result"
    }
   ],
   "source": [
    "cleaned_income_data['major_industry_code'].unique()"
   ]
  },
  {
   "cell_type": "code",
   "execution_count": 38,
   "metadata": {},
   "outputs": [
    {
     "data": {
      "text/plain": [
       "major_industry_code                  income_level\n",
       "Hospital services                    -50000           3479\n",
       "                                      50000            485\n",
       "Manufacturing-durable goods          -50000           7521\n",
       "                                      50000           1494\n",
       "Manufacturing-nondurable goods       -50000           6041\n",
       "                                      50000            856\n",
       "Medical except hospital              -50000           4083\n",
       "                                      50000            600\n",
       "Mining                               -50000            417\n",
       "                                      50000            146\n",
       "Not in universe or children          -50000          99778\n",
       "                                      50000            906\n",
       "Other professional services          -50000           3438\n",
       "                                      50000           1044\n",
       "Personal services except private HH  -50000           2832\n",
       "                                      50000            105\n",
       "Private household services           -50000            940\n",
       "                                      50000              5\n",
       "Public administration                -50000           3783\n",
       "                                      50000            827\n",
       "Retail trade                         -50000          16281\n",
       "                                      50000            789\n",
       "Social services                      -50000           2465\n",
       "                                      50000             84\n",
       "Transportation                       -50000           3733\n",
       "                                      50000            476\n",
       "Utilities and sanitary services      -50000            922\n",
       "                                      50000            256\n",
       "Wholesale trade                      -50000           3044\n",
       "                                      50000            552\n",
       "Name: income_level, dtype: int64"
      ]
     },
     "execution_count": 38,
     "metadata": {},
     "output_type": "execute_result"
    }
   ],
   "source": [
    "cleaned_income_data.groupby('major_industry_code')['income_level'].value_counts().tail(30)"
   ]
  },
  {
   "cell_type": "code",
   "execution_count": 75,
   "metadata": {},
   "outputs": [],
   "source": [
    "cleaned_income_data['major_industry_code_encoded']=le.fit_transform(cleaned_income_data['major_industry_code'])"
   ]
  },
  {
   "cell_type": "code",
   "execution_count": 39,
   "metadata": {},
   "outputs": [
    {
     "data": {
      "text/plain": [
       "major_industry_code_encoded  income_level\n",
       "0                            -50000          2845\n",
       "                              50000           178\n",
       "1                            -50000            28\n",
       "                              50000             8\n",
       "2                            -50000          5032\n",
       "                              50000           619\n",
       "3                            -50000           911\n",
       "                              50000           270\n",
       "4                            -50000          5451\n",
       "                              50000           533\n",
       "Name: income_level, dtype: int64"
      ]
     },
     "execution_count": 39,
     "metadata": {},
     "output_type": "execute_result"
    }
   ],
   "source": [
    "cleaned_income_data.groupby('major_industry_code_encoded')['income_level'].value_counts().head(10)"
   ]
  },
  {
   "cell_type": "code",
   "execution_count": 46,
   "metadata": {},
   "outputs": [],
   "source": [
    "cleaned_income_data['major_industry_code_encoded_mapped']=cleaned_income_data['major_industry_code_encoded'].replace({0:17,1:23,2:9,3:15,4:12,5:5,6:19,7:2,8:22,9:13,10:1,11:6,12:10,13:18,14:4,15:3,16:20,17:24,18:7,19:8,20:21,21:14,22:16,23:11})"
   ]
  },
  {
   "cell_type": "code",
   "execution_count": 48,
   "metadata": {},
   "outputs": [
    {
     "data": {
      "text/plain": [
       "major_industry_code_encoded_mapped  income_level\n",
       "1                                   -50000          7521\n",
       "                                     50000          1494\n",
       "2                                   -50000          5026\n",
       "                                     50000          1119\n",
       "3                                   -50000          3438\n",
       "Name: income_level, dtype: int64"
      ]
     },
     "execution_count": 48,
     "metadata": {},
     "output_type": "execute_result"
    }
   ],
   "source": [
    "cleaned_income_data.groupby('major_industry_code_encoded_mapped')['income_level'].value_counts().head()"
   ]
  },
  {
   "cell_type": "code",
   "execution_count": 51,
   "metadata": {},
   "outputs": [
    {
     "data": {
      "text/plain": [
       "major_occupation_code                  income_level\n",
       "Adm support including clerical         -50000          14391\n",
       "                                        50000            446\n",
       "Armed Forces                           -50000             28\n",
       "                                        50000              8\n",
       "Executive admin and managerial         -50000           8902\n",
       "                                        50000           3593\n",
       "Farming forestry and fishing           -50000           2986\n",
       "                                        50000            160\n",
       "Handlers equip cleaners etc            -50000           4048\n",
       "                                        50000             79\n",
       "Machine operators assmblrs & inspctrs  -50000           6144\n",
       "                                        50000            235\n",
       "Not in universe                        -50000          99778\n",
       "                                        50000            906\n",
       "Other service                          -50000          11979\n",
       "                                        50000            120\n",
       "Precision production craft & repair    -50000           9563\n",
       "                                        50000            955\n",
       "Private household services             -50000            778\n",
       "                                        50000              2\n",
       "Professional specialty                 -50000          10465\n",
       "                                        50000           3475\n",
       "Protective services                    -50000           1402\n",
       "                                        50000            259\n",
       "Sales                                  -50000          10259\n",
       "                                        50000           1524\n",
       "Technicians and related support        -50000           2657\n",
       "                                        50000            361\n",
       "Transportation and material moving     -50000           3761\n",
       "                                        50000            259\n",
       "Name: income_level, dtype: int64"
      ]
     },
     "execution_count": 51,
     "metadata": {},
     "output_type": "execute_result"
    }
   ],
   "source": [
    "cleaned_income_data.groupby('major_occupation_code')['income_level'].value_counts()"
   ]
  },
  {
   "cell_type": "code",
   "execution_count": 52,
   "metadata": {},
   "outputs": [],
   "source": [
    "cleaned_income_data['major_occupation_code_encoded']=le.fit_transform(cleaned_income_data['major_occupation_code'])"
   ]
  },
  {
   "cell_type": "code",
   "execution_count": 54,
   "metadata": {},
   "outputs": [
    {
     "data": {
      "text/plain": [
       "major_occupation_code_encoded  income_level\n",
       "0                              -50000          14391\n",
       "                                50000            446\n",
       "1                              -50000             28\n",
       "                                50000              8\n",
       "2                              -50000           8902\n",
       "                                50000           3593\n",
       "3                              -50000           2986\n",
       "                                50000            160\n",
       "4                              -50000           4048\n",
       "                                50000             79\n",
       "5                              -50000           6144\n",
       "                                50000            235\n",
       "6                              -50000          99778\n",
       "                                50000            906\n",
       "7                              -50000          11979\n",
       "                                50000            120\n",
       "8                              -50000           9563\n",
       "                                50000            955\n",
       "9                              -50000            778\n",
       "                                50000              2\n",
       "10                             -50000          10465\n",
       "                                50000           3475\n",
       "11                             -50000           1402\n",
       "                                50000            259\n",
       "12                             -50000          10259\n",
       "                                50000           1524\n",
       "13                             -50000           2657\n",
       "                                50000            361\n",
       "14                             -50000           3761\n",
       "                                50000            259\n",
       "Name: income_level, dtype: int64"
      ]
     },
     "execution_count": 54,
     "metadata": {},
     "output_type": "execute_result"
    }
   ],
   "source": [
    "cleaned_income_data.groupby('major_occupation_code_encoded')['income_level'].value_counts()"
   ]
  },
  {
   "cell_type": "code",
   "execution_count": 55,
   "metadata": {},
   "outputs": [],
   "source": [
    "cleaned_income_data['major_occupation_code_encoded_mapped']=cleaned_income_data['major_occupation_code_encoded'].replace({0:6,1:14,2:1,3:11,4:13,5:10,6:5,7:12,8:4,9:15,10:2,11:9,12:3,13:7,14:8})"
   ]
  },
  {
   "cell_type": "code",
   "execution_count": 56,
   "metadata": {},
   "outputs": [
    {
     "data": {
      "text/plain": [
       "major_occupation_code_encoded_mapped  income_level\n",
       "1                                     -50000           8902\n",
       "                                       50000           3593\n",
       "2                                     -50000          10465\n",
       "                                       50000           3475\n",
       "3                                     -50000          10259\n",
       "                                       50000           1524\n",
       "4                                     -50000           9563\n",
       "                                       50000            955\n",
       "5                                     -50000          99778\n",
       "                                       50000            906\n",
       "6                                     -50000          14391\n",
       "                                       50000            446\n",
       "7                                     -50000           2657\n",
       "                                       50000            361\n",
       "8                                     -50000           3761\n",
       "                                       50000            259\n",
       "9                                     -50000           1402\n",
       "                                       50000            259\n",
       "10                                    -50000           6144\n",
       "                                       50000            235\n",
       "11                                    -50000           2986\n",
       "                                       50000            160\n",
       "12                                    -50000          11979\n",
       "                                       50000            120\n",
       "13                                    -50000           4048\n",
       "                                       50000             79\n",
       "14                                    -50000             28\n",
       "                                       50000              8\n",
       "15                                    -50000            778\n",
       "                                       50000              2\n",
       "Name: income_level, dtype: int64"
      ]
     },
     "execution_count": 56,
     "metadata": {},
     "output_type": "execute_result"
    }
   ],
   "source": [
    "cleaned_income_data.groupby('major_occupation_code_encoded_mapped')['income_level'].value_counts()"
   ]
  },
  {
   "cell_type": "code",
   "execution_count": 58,
   "metadata": {},
   "outputs": [
    {
     "data": {
      "text/plain": [
       "race                         income_level\n",
       "Amer Indian Aleut or Eskimo  -50000            2202\n",
       "                              50000              49\n",
       "Asian or Pacific Islander    -50000            5405\n",
       "                              50000             430\n",
       "Black                        -50000           19875\n",
       "                              50000             540\n",
       "Other                        -50000            3566\n",
       "                              50000              91\n",
       "White                        -50000          156093\n",
       "                              50000           11272\n",
       "Name: income_level, dtype: int64"
      ]
     },
     "execution_count": 58,
     "metadata": {},
     "output_type": "execute_result"
    }
   ],
   "source": [
    "cleaned_income_data.groupby('race')['income_level'].value_counts()"
   ]
  },
  {
   "cell_type": "code",
   "execution_count": 76,
   "metadata": {},
   "outputs": [],
   "source": [
    "cleaned_income_data['race_encoded']=le.fit_transform(cleaned_income_data['race'])"
   ]
  },
  {
   "cell_type": "code",
   "execution_count": 31,
   "metadata": {},
   "outputs": [],
   "source": [
    "cleaned_income_data['race_encoded_mapped']=cleaned_income_data['race_encoded'].replace({0:5,1:3,2:2,3:4,4:1})"
   ]
  },
  {
   "cell_type": "code",
   "execution_count": 61,
   "metadata": {},
   "outputs": [
    {
     "data": {
      "text/plain": [
       "1    167365\n",
       "2     20415\n",
       "3      5835\n",
       "4      3657\n",
       "5      2251\n",
       "Name: race_encoded_mapped, dtype: int64"
      ]
     },
     "execution_count": 61,
     "metadata": {},
     "output_type": "execute_result"
    }
   ],
   "source": [
    "cleaned_income_data['race_encoded_mapped'].value_counts()"
   ]
  },
  {
   "cell_type": "code",
   "execution_count": 32,
   "metadata": {},
   "outputs": [
    {
     "data": {
      "text/plain": [
       "-0.040139606143536864"
      ]
     },
     "execution_count": 32,
     "metadata": {},
     "output_type": "execute_result"
    }
   ],
   "source": [
    "cleaned_income_data['race_encoded_mapped'].corr(cleaned_income_data['income_level'])"
   ]
  },
  {
   "cell_type": "code",
   "execution_count": null,
   "metadata": {},
   "outputs": [],
   "source": [
    "cleaned_income_data['race'].corr(cleaned_income_data['income_level'])"
   ]
  },
  {
   "cell_type": "code",
   "execution_count": 77,
   "metadata": {},
   "outputs": [],
   "source": [
    "cleaned_income_data['hispanic_origin_encoded']=le.fit_transform(cleaned_income_data['hispanic_origin'])"
   ]
  },
  {
   "cell_type": "code",
   "execution_count": 64,
   "metadata": {},
   "outputs": [
    {
     "data": {
      "text/plain": [
       "hispanic_origin_encoded  income_level\n",
       "0                        -50000          160957\n",
       "                          50000           11824\n",
       "1                        -50000            3815\n",
       "                          50000              80\n",
       "2                        -50000             298\n",
       "                          50000               6\n",
       "3                        -50000            1065\n",
       "                          50000              61\n",
       "4                        -50000             298\n",
       "                          50000               8\n",
       "5                        -50000            7152\n",
       "                          50000              82\n",
       "6                        -50000            7907\n",
       "                          50000             172\n",
       "7                        -50000            2404\n",
       "                          50000              81\n",
       "8                        -50000            3245\n",
       "                          50000              68\n",
       "Name: income_level, dtype: int64"
      ]
     },
     "execution_count": 64,
     "metadata": {},
     "output_type": "execute_result"
    }
   ],
   "source": [
    "cleaned_income_data.groupby('hispanic_origin_encoded')['income_level'].value_counts()"
   ]
  },
  {
   "cell_type": "code",
   "execution_count": 65,
   "metadata": {},
   "outputs": [],
   "source": [
    "cleaned_income_data['hispanic_origin_encoded_mapped']=cleaned_income_data['hispanic_origin_encoded'].replace({0:1,1:5,2:9,3:7,4:8,5:3,6:2,7:4,8:6})"
   ]
  },
  {
   "cell_type": "code",
   "execution_count": 66,
   "metadata": {},
   "outputs": [
    {
     "data": {
      "text/plain": [
       "1    172781\n",
       "2      8079\n",
       "3      7234\n",
       "5      3895\n",
       "6      3313\n",
       "4      2485\n",
       "7      1126\n",
       "8       306\n",
       "9       304\n",
       "Name: hispanic_origin_encoded_mapped, dtype: int64"
      ]
     },
     "execution_count": 66,
     "metadata": {},
     "output_type": "execute_result"
    }
   ],
   "source": [
    "cleaned_income_data['hispanic_origin_encoded_mapped'].value_counts()"
   ]
  },
  {
   "cell_type": "code",
   "execution_count": 78,
   "metadata": {},
   "outputs": [],
   "source": [
    "cleaned_income_data['sex_mapped']=cleaned_income_data['sex'].replace({'Male':0,'Female':1})"
   ]
  },
  {
   "cell_type": "code",
   "execution_count": 71,
   "metadata": {},
   "outputs": [
    {
     "data": {
      "text/plain": [
       "1    103984\n",
       "0     95539\n",
       "Name: sex_mapped, dtype: int64"
      ]
     },
     "execution_count": 71,
     "metadata": {},
     "output_type": "execute_result"
    }
   ],
   "source": [
    "cleaned_income_data['sex_mapped'].value_counts()"
   ]
  },
  {
   "cell_type": "code",
   "execution_count": 74,
   "metadata": {},
   "outputs": [
    {
     "data": {
      "text/plain": [
       "age                                            int64\n",
       "class_of_worker                               object\n",
       "industry_code                                  int64\n",
       "occupation_code                                int64\n",
       "education                                     object\n",
       "wage_per_hour                                  int64\n",
       "enrolled_in_edu_inst_lastwk                   object\n",
       "marital_status                                object\n",
       "major_industry_code                           object\n",
       "major_occupation_code                         object\n",
       "race                                          object\n",
       "hispanic_origin                               object\n",
       "sex                                           object\n",
       "member_of_labor_union                         object\n",
       "reason_for_unemployment                       object\n",
       "full_parttime_employment_stat                 object\n",
       "capital_gains                                  int64\n",
       "capital_losses                                 int64\n",
       "dividend_from_Stocks                           int64\n",
       "tax_filer_status                              object\n",
       "region_of_previous_residence                  object\n",
       "state_of_previous_residence                   object\n",
       "d_household_family_stat                       object\n",
       "d_household_summary                           object\n",
       "migration_msa                                 object\n",
       "migration_reg                                 object\n",
       "migration_within_reg                          object\n",
       "live_1_year_ago                               object\n",
       "migration_sunbelt                             object\n",
       "num_person_Worked_employer                     int64\n",
       "family_members_under_18                       object\n",
       "country_father                                object\n",
       "country_mother                                object\n",
       "country_self                                  object\n",
       "citizenship                                   object\n",
       "business_or_self_employed                      int64\n",
       "fill_questionnaire_veteran_admin              object\n",
       "veterans_benefits                              int64\n",
       "weeks_worked_in_year                           int64\n",
       "year                                           int64\n",
       "income_level                                   int64\n",
       "class_of_worker_encoded                        int32\n",
       "education_encoded                              int32\n",
       "education_encoded_mapped                       int64\n",
       "enrolled_in_edu_inst_lastwk_encoded            int32\n",
       "enrolled_in_edu_inst_lastwk_encoded_mapped     int64\n",
       "marital_status_encoded                         int32\n",
       "marital_status_encoded_mapped                  int64\n",
       "major_industry_code_encoded                    int32\n",
       "major_industry_code_encoded_mapped             int64\n",
       "major_occupation_code_encoded                  int32\n",
       "major_occupation_code_encoded_mapped           int64\n",
       "race_encoded                                   int32\n",
       "race_encoded_mapped                            int64\n",
       "hispanic_origin_encoded                        int32\n",
       "hispanic_origin_encoded_mapped                 int64\n",
       "sex_mapped                                     int64\n",
       "dtype: object"
      ]
     },
     "execution_count": 74,
     "metadata": {},
     "output_type": "execute_result"
    }
   ],
   "source": [
    "cleaned_income_data.dtypes"
   ]
  },
  {
   "cell_type": "code",
   "execution_count": 77,
   "metadata": {},
   "outputs": [
    {
     "data": {
      "text/plain": [
       "member_of_labor_union  income_level\n",
       "No                     -50000           14212\n",
       "                        50000            1822\n",
       "Not in universe        -50000          170311\n",
       "                        50000           10148\n",
       "Yes                    -50000            2618\n",
       "                        50000             412\n",
       "Name: income_level, dtype: int64"
      ]
     },
     "execution_count": 77,
     "metadata": {},
     "output_type": "execute_result"
    }
   ],
   "source": [
    "cleaned_income_data.groupby('member_of_labor_union')['income_level'].value_counts()"
   ]
  },
  {
   "cell_type": "code",
   "execution_count": 79,
   "metadata": {},
   "outputs": [],
   "source": [
    "cleaned_income_data['member_of_labor_union_encoded']=le.fit_transform(cleaned_income_data['member_of_labor_union'])"
   ]
  },
  {
   "cell_type": "code",
   "execution_count": 80,
   "metadata": {},
   "outputs": [],
   "source": [
    "cleaned_income_data['member_of_labor_union_encoded_mapped']=cleaned_income_data['member_of_labor_union_encoded'].replace({0:2,1:1,2:3})"
   ]
  },
  {
   "cell_type": "code",
   "execution_count": 81,
   "metadata": {},
   "outputs": [
    {
     "data": {
      "text/plain": [
       "1    180459\n",
       "2     16034\n",
       "3      3030\n",
       "Name: member_of_labor_union_encoded_mapped, dtype: int64"
      ]
     },
     "execution_count": 81,
     "metadata": {},
     "output_type": "execute_result"
    }
   ],
   "source": [
    "cleaned_income_data['member_of_labor_union_encoded_mapped'].value_counts()"
   ]
  },
  {
   "cell_type": "code",
   "execution_count": 82,
   "metadata": {},
   "outputs": [
    {
     "data": {
      "text/plain": [
       "array(['Not in universe', 'Job loser - on layoff', 'Other job loser',\n",
       "       'New entrant', 'Re-entrant', 'Job leaver'], dtype=object)"
      ]
     },
     "execution_count": 82,
     "metadata": {},
     "output_type": "execute_result"
    }
   ],
   "source": [
    "cleaned_income_data['reason_for_unemployment'].unique()"
   ]
  },
  {
   "cell_type": "code",
   "execution_count": 98,
   "metadata": {},
   "outputs": [
    {
     "data": {
      "text/plain": [
       "reason_for_unemployment  income_level\n",
       "Job leaver               -50000             574\n",
       "                          50000              24\n",
       "Job loser - on layoff    -50000             954\n",
       "                          50000              22\n",
       "New entrant              -50000             437\n",
       "                          50000               2\n",
       "Not in universe          -50000          181241\n",
       "                          50000           12212\n",
       "Other job loser          -50000            1939\n",
       "                          50000              99\n",
       "Re-entrant               -50000            1996\n",
       "                          50000              23\n",
       "Name: income_level, dtype: int64"
      ]
     },
     "execution_count": 98,
     "metadata": {},
     "output_type": "execute_result"
    }
   ],
   "source": [
    "cleaned_income_data.groupby('reason_for_unemployment')['income_level'].value_counts()"
   ]
  },
  {
   "cell_type": "code",
   "execution_count": 81,
   "metadata": {},
   "outputs": [],
   "source": [
    "cleaned_income_data['reason_for_unemployment_encoded']=le.fit_transform(cleaned_income_data['reason_for_unemployment'])"
   ]
  },
  {
   "cell_type": "code",
   "execution_count": 100,
   "metadata": {},
   "outputs": [],
   "source": [
    "cleaned_income_data['reason_for_unemployment_encoded_mapped']=cleaned_income_data['reason_for_unemployment_encoded'].replace({0:3,1:5,2:6,3:1,4:2,5:4})"
   ]
  },
  {
   "cell_type": "code",
   "execution_count": 102,
   "metadata": {},
   "outputs": [
    {
     "data": {
      "text/plain": [
       "1    193453\n",
       "2      2038\n",
       "4      2019\n",
       "5       976\n",
       "3       598\n",
       "6       439\n",
       "Name: reason_for_unemployment_encoded_mapped, dtype: int64"
      ]
     },
     "execution_count": 102,
     "metadata": {},
     "output_type": "execute_result"
    }
   ],
   "source": [
    "cleaned_income_data['reason_for_unemployment_encoded_mapped'].value_counts()"
   ]
  },
  {
   "cell_type": "code",
   "execution_count": 105,
   "metadata": {},
   "outputs": [
    {
     "data": {
      "text/plain": [
       "full_parttime_employment_stat       income_level\n",
       "Children or Armed Forces            -50000          117895\n",
       "                                     50000            5874\n",
       "Full-time schedules                 -50000           35370\n",
       "                                     50000            5366\n",
       "Not in labor force                  -50000           26346\n",
       "                                     50000             462\n",
       "PT for econ reasons usually FT      -50000             494\n",
       "                                     50000              31\n",
       "PT for econ reasons usually PT      -50000            1054\n",
       "                                     50000             155\n",
       "PT for non-econ reasons usually FT  -50000            2929\n",
       "                                     50000             393\n",
       "Unemployed full-time                -50000            2228\n",
       "                                     50000              83\n",
       "Unemployed part- time               -50000             825\n",
       "                                     50000              18\n",
       "Name: income_level, dtype: int64"
      ]
     },
     "execution_count": 105,
     "metadata": {},
     "output_type": "execute_result"
    }
   ],
   "source": [
    "cleaned_income_data.groupby('full_parttime_employment_stat')['income_level'].value_counts()"
   ]
  },
  {
   "cell_type": "code",
   "execution_count": 82,
   "metadata": {},
   "outputs": [],
   "source": [
    "cleaned_income_data['full_parttime_employment_stat_encoded']=le.fit_transform(cleaned_income_data['full_parttime_employment_stat'])"
   ]
  },
  {
   "cell_type": "code",
   "execution_count": 107,
   "metadata": {},
   "outputs": [],
   "source": [
    "cleaned_income_data['full_parttime_employment_stat_encoded_mapped']=cleaned_income_data['full_parttime_employment_stat_encoded'].replace({0:1,1:2,2:3,3:7,4:5,5:4,6:6,7:8})"
   ]
  },
  {
   "cell_type": "code",
   "execution_count": 108,
   "metadata": {},
   "outputs": [
    {
     "data": {
      "text/plain": [
       "1    123769\n",
       "2     40736\n",
       "3     26808\n",
       "4      3322\n",
       "6      2311\n",
       "5      1209\n",
       "8       843\n",
       "7       525\n",
       "Name: full_parttime_employment_stat_encoded_mapped, dtype: int64"
      ]
     },
     "execution_count": 108,
     "metadata": {},
     "output_type": "execute_result"
    }
   ],
   "source": [
    "cleaned_income_data['full_parttime_employment_stat_encoded_mapped'].value_counts()"
   ]
  },
  {
   "cell_type": "code",
   "execution_count": 112,
   "metadata": {},
   "outputs": [
    {
     "data": {
      "text/plain": [
       "array([   0, 4550,  100, ...,  447,  169, 1055], dtype=int64)"
      ]
     },
     "execution_count": 112,
     "metadata": {},
     "output_type": "execute_result"
    }
   ],
   "source": [
    " \n",
    "         'migration_msa', 'migration_reg',\n",
    "       'migration_within_reg', 'live_1_year_ago', 'migration_sunbelt',\n",
    "       'num_person_Worked_employer', 'family_members_under_18',\n",
    "       'country_father', 'country_mother', 'country_self', 'citizenship',\n",
    "       'business_or_self_employed', 'fill_questionnaire_veteran_admin',\n",
    "       'veterans_benefits', 'weeks_worked_in_year', 'year',"
   ]
  },
  {
   "cell_type": "code",
   "execution_count": 83,
   "metadata": {},
   "outputs": [],
   "source": [
    "cleaned_income_data['tax_filer_status_encoded']=le.fit_transform(cleaned_income_data['tax_filer_status'])"
   ]
  },
  {
   "cell_type": "code",
   "execution_count": 118,
   "metadata": {},
   "outputs": [],
   "source": [
    "cleaned_income_data['tax_filer_status_encoded_mapped']=cleaned_income_data['tax_filer_status_encoded'].replace({0:4,1:3,2:1,3:5,4:6,5:2})"
   ]
  },
  {
   "cell_type": "code",
   "execution_count": 119,
   "metadata": {},
   "outputs": [
    {
     "data": {
      "text/plain": [
       "6    75094\n",
       "1    67383\n",
       "2    37421\n",
       "3     8332\n",
       "4     7426\n",
       "5     3867\n",
       "Name: tax_filer_status_encoded_mapped, dtype: int64"
      ]
     },
     "execution_count": 119,
     "metadata": {},
     "output_type": "execute_result"
    }
   ],
   "source": [
    "cleaned_income_data['tax_filer_status_encoded_mapped'].value_counts()"
   ]
  },
  {
   "cell_type": "code",
   "execution_count": 121,
   "metadata": {},
   "outputs": [
    {
     "data": {
      "text/plain": [
       "region_of_previous_residence  income_level\n",
       "Abroad                        -50000             512\n",
       "                               50000              18\n",
       "Midwest                       -50000            3466\n",
       "                               50000             109\n",
       "Northeast                     -50000            2558\n",
       "                               50000             147\n",
       "Not in universe               -50000          171986\n",
       "                               50000           11764\n",
       "South                         -50000            4705\n",
       "                               50000             184\n",
       "West                          -50000            3914\n",
       "                               50000             160\n",
       "Name: income_level, dtype: int64"
      ]
     },
     "execution_count": 121,
     "metadata": {},
     "output_type": "execute_result"
    }
   ],
   "source": [
    "cleaned_income_data.groupby('region_of_previous_residence')['income_level'].value_counts()"
   ]
  },
  {
   "cell_type": "code",
   "execution_count": 84,
   "metadata": {},
   "outputs": [],
   "source": [
    "cleaned_income_data['region_of_previous_residence_encoded']=le.fit_transform(cleaned_income_data['region_of_previous_residence'])"
   ]
  },
  {
   "cell_type": "code",
   "execution_count": 124,
   "metadata": {},
   "outputs": [],
   "source": [
    "cleaned_income_data['region_of_previous_residence_encoded_mapped']=cleaned_income_data['region_of_previous_residence_encoded'].replace({0:6,1:5,2:4,3:1,4:2,5:3})"
   ]
  },
  {
   "cell_type": "code",
   "execution_count": 125,
   "metadata": {},
   "outputs": [
    {
     "data": {
      "text/plain": [
       "region_of_previous_residence_encoded_mapped  income_level\n",
       "1                                            -50000          171986\n",
       "                                              50000           11764\n",
       "2                                            -50000            4705\n",
       "                                              50000             184\n",
       "3                                            -50000            3914\n",
       "                                              50000             160\n",
       "4                                            -50000            2558\n",
       "                                              50000             147\n",
       "5                                            -50000            3466\n",
       "                                              50000             109\n",
       "6                                            -50000             512\n",
       "                                              50000              18\n",
       "Name: income_level, dtype: int64"
      ]
     },
     "execution_count": 125,
     "metadata": {},
     "output_type": "execute_result"
    }
   ],
   "source": [
    "cleaned_income_data.groupby('region_of_previous_residence_encoded_mapped')['income_level'].value_counts()"
   ]
  },
  {
   "cell_type": "markdown",
   "metadata": {},
   "source": [
    "Only with encoding not mapped"
   ]
  },
  {
   "cell_type": "code",
   "execution_count": 85,
   "metadata": {},
   "outputs": [],
   "source": [
    "cleaned_income_data['state_of_previous_residence_encoded']=le.fit_transform(cleaned_income_data['state_of_previous_residence'])"
   ]
  },
  {
   "cell_type": "code",
   "execution_count": 27,
   "metadata": {},
   "outputs": [
    {
     "data": {
      "text/plain": [
       "<bound method IndexOpsMixin.value_counts of 0         35\n",
       "1          4\n",
       "2         35\n",
       "3         35\n",
       "4         35\n",
       "          ..\n",
       "199518    35\n",
       "199519    35\n",
       "199520    35\n",
       "199521    35\n",
       "199522    35\n",
       "Name: state_of_previous_residence_encoded, Length: 199523, dtype: int32>"
      ]
     },
     "execution_count": 27,
     "metadata": {},
     "output_type": "execute_result"
    }
   ],
   "source": [
    "cleaned_income_data['state_of_previous_residence_encoded'].value_counts"
   ]
  },
  {
   "cell_type": "code",
   "execution_count": 86,
   "metadata": {},
   "outputs": [],
   "source": [
    "cleaned_income_data['d_household_family_stat_encoded']=le.fit_transform(cleaned_income_data['d_household_family_stat'])"
   ]
  },
  {
   "cell_type": "code",
   "execution_count": 87,
   "metadata": {},
   "outputs": [],
   "source": [
    "cleaned_income_data['d_household_summary_encoded']=le.fit_transform(cleaned_income_data['d_household_summary'])"
   ]
  },
  {
   "cell_type": "code",
   "execution_count": 88,
   "metadata": {},
   "outputs": [],
   "source": [
    "cleaned_income_data['migration_msa_encoded']=le.fit_transform(cleaned_income_data['migration_msa'])"
   ]
  },
  {
   "cell_type": "code",
   "execution_count": 89,
   "metadata": {},
   "outputs": [],
   "source": [
    "cleaned_income_data['migration_reg_encoded']=le.fit_transform(cleaned_income_data['migration_reg'])"
   ]
  },
  {
   "cell_type": "code",
   "execution_count": 90,
   "metadata": {},
   "outputs": [],
   "source": [
    "cleaned_income_data['migration_within_reg_encoded']=le.fit_transform(cleaned_income_data['migration_within_reg'])"
   ]
  },
  {
   "cell_type": "code",
   "execution_count": 91,
   "metadata": {},
   "outputs": [],
   "source": [
    "cleaned_income_data['live_1_year_ago_encoded']=le.fit_transform(cleaned_income_data['live_1_year_ago'])"
   ]
  },
  {
   "cell_type": "code",
   "execution_count": 63,
   "metadata": {},
   "outputs": [
    {
     "data": {
      "text/plain": [
       "94    99827\n",
       "95    99696\n",
       "Name: year, dtype: int64"
      ]
     },
     "execution_count": 63,
     "metadata": {},
     "output_type": "execute_result"
    }
   ],
   "source": [
    "cleaned_income_data['year'].value_counts()"
   ]
  },
  {
   "cell_type": "code",
   "execution_count": 43,
   "metadata": {},
   "outputs": [
    {
     "data": {
      "text/plain": [
       "1    101212\n",
       "2     82538\n",
       "0     15773\n",
       "Name: live_1_year_ago_encoded, dtype: int64"
      ]
     },
     "execution_count": 43,
     "metadata": {},
     "output_type": "execute_result"
    }
   ],
   "source": [
    "cleaned_income_data['live_1_year_ago_encoded'].value_counts()"
   ]
  },
  {
   "cell_type": "code",
   "execution_count": 92,
   "metadata": {},
   "outputs": [],
   "source": [
    "cleaned_income_data['migration_sunbelt_encoded']=le.fit_transform(cleaned_income_data['migration_sunbelt'])"
   ]
  },
  {
   "cell_type": "code",
   "execution_count": 93,
   "metadata": {},
   "outputs": [],
   "source": [
    "cleaned_income_data['family_members_under_18_encoded']=le.fit_transform(cleaned_income_data['family_members_under_18'])"
   ]
  },
  {
   "cell_type": "code",
   "execution_count": 94,
   "metadata": {},
   "outputs": [],
   "source": [
    "cleaned_income_data['country_father_encoded']=le.fit_transform(cleaned_income_data['country_father'])"
   ]
  },
  {
   "cell_type": "code",
   "execution_count": 95,
   "metadata": {},
   "outputs": [],
   "source": [
    "cleaned_income_data['country_mother_encoded']=le.fit_transform(cleaned_income_data['country_mother'])"
   ]
  },
  {
   "cell_type": "code",
   "execution_count": 96,
   "metadata": {},
   "outputs": [],
   "source": [
    "cleaned_income_data['country_self_encoded']=le.fit_transform(cleaned_income_data['country_self'])  "
   ]
  },
  {
   "cell_type": "code",
   "execution_count": 97,
   "metadata": {},
   "outputs": [],
   "source": [
    "cleaned_income_data['citizenship_encoded']=le.fit_transform(cleaned_income_data['citizenship'])"
   ]
  },
  {
   "cell_type": "code",
   "execution_count": 98,
   "metadata": {},
   "outputs": [],
   "source": [
    "cleaned_income_data['fill_questionnaire_veteran_admin_encoded']=le.fit_transform(cleaned_income_data['fill_questionnaire_veteran_admin'])"
   ]
  },
  {
   "cell_type": "code",
   "execution_count": 99,
   "metadata": {},
   "outputs": [
    {
     "name": "stdout",
     "output_type": "stream",
     "text": [
      "<class 'pandas.core.frame.DataFrame'>\n",
      "Int64Index: 199523 entries, 0 to 199522\n",
      "Data columns (total 73 columns):\n",
      " #   Column                                    Non-Null Count   Dtype \n",
      "---  ------                                    --------------   ----- \n",
      " 0   age                                       199523 non-null  int64 \n",
      " 1   class_of_worker                           199523 non-null  object\n",
      " 2   industry_code                             199523 non-null  int64 \n",
      " 3   occupation_code                           199523 non-null  int64 \n",
      " 4   education                                 199523 non-null  object\n",
      " 5   wage_per_hour                             199523 non-null  int64 \n",
      " 6   enrolled_in_edu_inst_lastwk               199523 non-null  object\n",
      " 7   marital_status                            199523 non-null  object\n",
      " 8   major_industry_code                       199523 non-null  object\n",
      " 9   major_occupation_code                     199523 non-null  object\n",
      " 10  race                                      199523 non-null  object\n",
      " 11  hispanic_origin                           199523 non-null  object\n",
      " 12  sex                                       199523 non-null  object\n",
      " 13  member_of_labor_union                     199523 non-null  object\n",
      " 14  reason_for_unemployment                   199523 non-null  object\n",
      " 15  full_parttime_employment_stat             199523 non-null  object\n",
      " 16  capital_gains                             199523 non-null  int64 \n",
      " 17  capital_losses                            199523 non-null  int64 \n",
      " 18  dividend_from_Stocks                      199523 non-null  int64 \n",
      " 19  tax_filer_status                          199523 non-null  object\n",
      " 20  region_of_previous_residence              199523 non-null  object\n",
      " 21  state_of_previous_residence               199523 non-null  object\n",
      " 22  d_household_family_stat                   199523 non-null  object\n",
      " 23  d_household_summary                       199523 non-null  object\n",
      " 24  migration_msa                             199523 non-null  object\n",
      " 25  migration_reg                             199523 non-null  object\n",
      " 26  migration_within_reg                      199523 non-null  object\n",
      " 27  live_1_year_ago                           199523 non-null  object\n",
      " 28  migration_sunbelt                         199523 non-null  object\n",
      " 29  num_person_Worked_employer                199523 non-null  int64 \n",
      " 30  family_members_under_18                   199523 non-null  object\n",
      " 31  country_father                            199523 non-null  int32 \n",
      " 32  country_mother                            199523 non-null  int32 \n",
      " 33  country_self                              199523 non-null  int32 \n",
      " 34  citizenship                               199523 non-null  int32 \n",
      " 35  business_or_self_employed                 199523 non-null  int64 \n",
      " 36  fill_questionnaire_veteran_admin          199523 non-null  object\n",
      " 37  veterans_benefits                         199523 non-null  int64 \n",
      " 38  weeks_worked_in_year                      199523 non-null  int64 \n",
      " 39  year                                      199523 non-null  int64 \n",
      " 40  income_level                              199523 non-null  int64 \n",
      " 41  new_occupation_code_code                  199523 non-null  int64 \n",
      " 42  new_occupation_code                       199523 non-null  int64 \n",
      " 43  new_industry_code                         199523 non-null  int64 \n",
      " 44  new_industry_code_encoded                 199523 non-null  int64 \n",
      " 45  state_of_previous_residence_encoded       199523 non-null  int32 \n",
      " 46  race_encoded                              199523 non-null  int32 \n",
      " 47  race_encoded_mapped                       199523 non-null  int64 \n",
      " 48  d_household_family_stat_encoded           199523 non-null  int32 \n",
      " 49  d_household_summary_encoded               199523 non-null  int32 \n",
      " 50  migration_msa_encoded                     199523 non-null  int32 \n",
      " 51  migration_reg_encoded                     199523 non-null  int32 \n",
      " 52  migration_within_reg_encoded              199523 non-null  int32 \n",
      " 53  live_1_year_ago_encoded                   199523 non-null  int32 \n",
      " 54  migration_sunbelt_encoded                 199523 non-null  int32 \n",
      " 55  family_members_under_18_encoded           199523 non-null  int32 \n",
      " 56  country_father_encoded                    199523 non-null  int64 \n",
      " 57  country_mother_encoded                    199523 non-null  int64 \n",
      " 58  country_self_encoded                      199523 non-null  int64 \n",
      " 59  citizenship_encoded                       199523 non-null  int64 \n",
      " 60  fill_questionnaire_veteran_admin_encoded  199523 non-null  int32 \n",
      " 61  class_of_worker_encoded                   199523 non-null  int32 \n",
      " 62  education_encoded                         199523 non-null  int32 \n",
      " 63  enrolled_in_edu_inst_lastwk_encoded       199523 non-null  int32 \n",
      " 64  marital_status_encoded                    199523 non-null  int32 \n",
      " 65  major_industry_code_encoded               199523 non-null  int32 \n",
      " 66  hispanic_origin_encoded                   199523 non-null  int32 \n",
      " 67  sex_mapped                                199523 non-null  int64 \n",
      " 68  member_of_labor_union_encoded             199523 non-null  int32 \n",
      " 69  reason_for_unemployment_encoded           199523 non-null  int32 \n",
      " 70  full_parttime_employment_stat_encoded     199523 non-null  int32 \n",
      " 71  tax_filer_status_encoded                  199523 non-null  int32 \n",
      " 72  region_of_previous_residence_encoded      199523 non-null  int32 \n",
      "dtypes: int32(26), int64(23), object(24)\n",
      "memory usage: 92.9+ MB\n"
     ]
    }
   ],
   "source": [
    "cleaned_income_data.info()"
   ]
  },
  {
   "cell_type": "code",
   "execution_count": 106,
   "metadata": {},
   "outputs": [],
   "source": [
    "cleaned_income_data_numerical=cleaned_income_data[['age','num_person_Worked_employer','dividend_from_Stocks','business_or_self_employed','wage_per_hour','capital_gains','capital_losses','veterans_benefits','weeks_worked_in_year','year','new_occupation_code','new_industry_code_encoded','state_of_previous_residence_encoded','race_encoded','d_household_family_stat_encoded','d_household_summary_encoded','migration_msa_encoded','migration_reg_encoded','migration_within_reg_encoded','live_1_year_ago_encoded','migration_sunbelt_encoded','family_members_under_18_encoded','country_father_encoded','country_mother_encoded','country_self_encoded','citizenship_encoded','fill_questionnaire_veteran_admin_encoded','class_of_worker_encoded','education_encoded','enrolled_in_edu_inst_lastwk_encoded','marital_status_encoded','major_industry_code_encoded','hispanic_origin_encoded','sex_mapped','member_of_labor_union_encoded','reason_for_unemployment_encoded','full_parttime_employment_stat_encoded','tax_filer_status_encoded','region_of_previous_residence_encoded','income_level']]"
   ]
  },
  {
   "cell_type": "code",
   "execution_count": 108,
   "metadata": {},
   "outputs": [
    {
     "data": {
      "text/plain": [
       "age                                         int64\n",
       "num_person_Worked_employer                  int64\n",
       "dividend_from_Stocks                        int64\n",
       "business_or_self_employed                   int64\n",
       "wage_per_hour                               int64\n",
       "capital_gains                               int64\n",
       "capital_losses                              int64\n",
       "veterans_benefits                           int64\n",
       "weeks_worked_in_year                        int64\n",
       "year                                        int64\n",
       "new_occupation_code                         int64\n",
       "new_industry_code_encoded                   int64\n",
       "state_of_previous_residence_encoded         int32\n",
       "race_encoded                                int32\n",
       "d_household_family_stat_encoded             int32\n",
       "d_household_summary_encoded                 int32\n",
       "migration_msa_encoded                       int32\n",
       "migration_reg_encoded                       int32\n",
       "migration_within_reg_encoded                int32\n",
       "live_1_year_ago_encoded                     int32\n",
       "migration_sunbelt_encoded                   int32\n",
       "family_members_under_18_encoded             int32\n",
       "country_father_encoded                      int64\n",
       "country_mother_encoded                      int64\n",
       "country_self_encoded                        int64\n",
       "citizenship_encoded                         int64\n",
       "fill_questionnaire_veteran_admin_encoded    int32\n",
       "class_of_worker_encoded                     int32\n",
       "education_encoded                           int32\n",
       "enrolled_in_edu_inst_lastwk_encoded         int32\n",
       "marital_status_encoded                      int32\n",
       "major_industry_code_encoded                 int32\n",
       "hispanic_origin_encoded                     int32\n",
       "sex_mapped                                  int64\n",
       "member_of_labor_union_encoded               int32\n",
       "reason_for_unemployment_encoded             int32\n",
       "full_parttime_employment_stat_encoded       int32\n",
       "tax_filer_status_encoded                    int32\n",
       "region_of_previous_residence_encoded        int32\n",
       "income_level                                int64\n",
       "dtype: object"
      ]
     },
     "execution_count": 108,
     "metadata": {},
     "output_type": "execute_result"
    }
   ],
   "source": [
    "cleaned_income_data_numerical.dtypes"
   ]
  },
  {
   "cell_type": "code",
   "execution_count": 105,
   "metadata": {},
   "outputs": [
    {
     "data": {
      "text/plain": [
       "{'age',\n",
       " 'capital_gains',\n",
       " 'capital_losses',\n",
       " 'citizenship_encoded',\n",
       " 'class_of_worker_encoded',\n",
       " 'country_father_encoded',\n",
       " 'country_mother_encoded',\n",
       " 'country_self_encoded',\n",
       " 'd_household_family_stat_encoded',\n",
       " 'd_household_summary_encoded',\n",
       " 'dividend_from_Stocks',\n",
       " 'education_encoded',\n",
       " 'enrolled_in_edu_inst_lastwk_encoded',\n",
       " 'family_members_under_18_encoded',\n",
       " 'fill_questionnaire_veteran_admin_encoded',\n",
       " 'full_parttime_employment_stat_encoded',\n",
       " 'hispanic_origin_encoded',\n",
       " 'income_level',\n",
       " 'live_1_year_ago_encoded',\n",
       " 'major_industry_code_encoded',\n",
       " 'marital_status_encoded',\n",
       " 'member_of_labor_union_encoded',\n",
       " 'migration_msa_encoded',\n",
       " 'migration_reg_encoded',\n",
       " 'migration_sunbelt_encoded',\n",
       " 'migration_within_reg_encoded',\n",
       " 'new_industry_code_encoded',\n",
       " 'new_occupation_code',\n",
       " 'num_person_Worked_employer',\n",
       " 'race_encoded',\n",
       " 'reason_for_unemployment_encoded',\n",
       " 'region_of_previous_residence_encoded',\n",
       " 'sex_mapped',\n",
       " 'state_of_previous_residence_encoded',\n",
       " 'tax_filer_status_encoded',\n",
       " 'veterans_benefits',\n",
       " 'wage_per_hour',\n",
       " 'weeks_worked_in_year',\n",
       " 'year'}"
      ]
     },
     "execution_count": 105,
     "metadata": {},
     "output_type": "execute_result"
    }
   ],
   "source": [
    "set(cleaned_income_data).intersection(set(cleaned_income_data_numerical))"
   ]
  },
  {
   "cell_type": "code",
   "execution_count": null,
   "metadata": {},
   "outputs": [],
   "source": [
    "weeks_worked_in_year"
   ]
  }
 ],
 "metadata": {
  "kernelspec": {
   "display_name": "Python 3",
   "language": "python",
   "name": "python3"
  },
  "language_info": {
   "codemirror_mode": {
    "name": "ipython",
    "version": 3
   },
   "file_extension": ".py",
   "mimetype": "text/x-python",
   "name": "python",
   "nbconvert_exporter": "python",
   "pygments_lexer": "ipython3",
   "version": "3.7.6"
  }
 },
 "nbformat": 4,
 "nbformat_minor": 4
}
